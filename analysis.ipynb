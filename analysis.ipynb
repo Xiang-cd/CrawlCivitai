{
 "cells": [
  {
   "cell_type": "code",
   "execution_count": 65,
   "metadata": {},
   "outputs": [],
   "source": [
    "import os\n",
    "import json\n",
    "import numpy as np\n",
    "import matplotlib.pyplot as plt\n",
    "\n",
    "\n",
    "meta_dir = \"/DATA4T/civitai/meta\""
   ]
  },
  {
   "cell_type": "code",
   "execution_count": 41,
   "metadata": {},
   "outputs": [],
   "source": [
    "def get_all_items(path, num:int):\n",
    "    ls = list()\n",
    "    for i in range(1, num+1):\n",
    "        with open(os.path.join(path, f\"{i}.json\"), \"r\") as f:\n",
    "            dic = json.loads(f.read())\n",
    "            ls += dic[\"items\"]\n",
    "    return ls\n",
    "\n",
    "            \n",
    "def find_model_id(items, id_num:int):\n",
    "    for i in items:\n",
    "        if id_num == i[\"id\"]:\n",
    "            return i\n",
    "def find_model_name(items, name:str):\n",
    "    for i in items:\n",
    "        if name in i[\"name\"]:\n",
    "            return i\n",
    "\n",
    "def get_all_stats(items, name):\n",
    "    assert name in [\"downloadCount\", \"rating\", \"ratingCount\", \"commentCount\", \"favoriteCount\"]\n",
    "    rt = list()\n",
    "    for i in items:\n",
    "        rt.append(i[\"stats\"][name])\n",
    "    return rt\n"
   ]
  },
  {
   "cell_type": "code",
   "execution_count": 26,
   "metadata": {},
   "outputs": [],
   "source": [
    "all_item = get_all_items(meta_dir, 632)"
   ]
  },
  {
   "cell_type": "code",
   "execution_count": 42,
   "metadata": {},
   "outputs": [],
   "source": [
    "it = find_model_id(all_item, 6424)"
   ]
  },
  {
   "cell_type": "code",
   "execution_count": 50,
   "metadata": {},
   "outputs": [],
   "source": [
    "downloads = get_all_stats(all_item, \"downloadCount\")\n",
    "favs = get_all_stats(all_item, \"favoriteCount\")"
   ]
  },
  {
   "cell_type": "code",
   "execution_count": 45,
   "metadata": {},
   "outputs": [],
   "source": [
    "find_model_id(all_item, 11745)"
   ]
  },
  {
   "cell_type": "code",
   "execution_count": 77,
   "metadata": {},
   "outputs": [
    {
     "name": "stdout",
     "output_type": "stream",
     "text": [
      "median: 105.0\n",
      "mean: 254.5135349058097\n"
     ]
    },
    {
     "data": {
      "text/plain": [
       "3591"
      ]
     },
     "execution_count": 77,
     "metadata": {},
     "output_type": "execute_result"
    },
    {
     "data": {
      "image/png": "[encoded data removed]",
      "text/plain": [
       "<Figure size 640x480 with 1 Axes>"
      ]
     },
     "metadata": {},
     "output_type": "display_data"
    }
   ],
   "source": [
    "favs = np.array(favs)\n",
    "hist,bins = np.histogram(favs,bins=list(range(0, int(10* np.mean(favs)), 100)))\n",
    "plt.hist(downloads, bins = bins)\n",
    "print(\"median:\", np.median(favs))\n",
    "print(\"mean:\", np.mean(favs))\n",
    "np.count_nonzero(favs > 200)"
   ]
  },
  {
   "cell_type": "code",
   "execution_count": 78,
   "metadata": {},
   "outputs": [
    {
     "name": "stdout",
     "output_type": "stream",
     "text": [
      "median: 499.0\n",
      "mean: 1426.8063954408738\n"
     ]
    },
    {
     "data": {
      "text/plain": [
       "3782"
      ]
     },
     "execution_count": 78,
     "metadata": {},
     "output_type": "execute_result"
    },
    {
     "data": {
      "image/png": "[encoded data removed]",
      "text/plain": [
       "<Figure size 640x480 with 1 Axes>"
      ]
     },
     "metadata": {},
     "output_type": "display_data"
    }
   ],
   "source": [
    "downloads = np.array(downloads)\n",
    "hist,bins = np.histogram(downloads,bins=list(range(0, int(2* np.mean(downloads)), 100)))  \n",
    "plt.hist(downloads, bins = bins)\n",
    "print(\"median:\", np.median(downloads))\n",
    "print(\"mean:\", np.mean(downloads))\n",
    "np.count_nonzero(downloads > 900)"
   ]
  },
  {
   "cell_type": "code",
   "execution_count": 79,
   "metadata": {},
   "outputs": [
    {
     "data": {
      "text/plain": [
       "dict_keys(['id', 'modelId', 'name', 'createdAt', 'updatedAt', 'trainedWords', 'baseModel', 'earlyAccessTimeFrame', 'description', 'files', 'images', 'downloadUrl'])"
      ]
     },
     "execution_count": 79,
     "metadata": {},
     "output_type": "execute_result"
    }
   ],
   "source": [
    "it = find_model_id(all_item, 6424)\n",
    "it[\"modelVersions\"][0].keys()"
   ]
  },
  {
   "cell_type": "code",
   "execution_count": 82,
   "metadata": {},
   "outputs": [],
   "source": [
    "type_list = []\n",
    "for i in all_item:\n",
    "    if i[\"type\"] in type_list:\n",
    "        continue\n",
    "    else:\n",
    "        type_list.append(i['type'])"
   ]
  },
  {
   "cell_type": "code",
   "execution_count": 83,
   "metadata": {},
   "outputs": [
    {
     "data": {
      "text/plain": [
       "['Checkpoint',\n",
       " 'LORA',\n",
       " 'Other',\n",
       " 'TextualInversion',\n",
       " 'Hypernetwork',\n",
       " 'Poses',\n",
       " 'Controlnet',\n",
       " 'Wildcards',\n",
       " 'LoCon',\n",
       " 'AestheticGradient']"
      ]
     },
     "execution_count": 83,
     "metadata": {},
     "output_type": "execute_result"
    }
   ],
   "source": [
    "type_list"
   ]
  },
  {
   "cell_type": "code",
   "execution_count": null,
   "metadata": {},
   "outputs": [],
   "source": [
    "type_to_sufix = {\n",
    "    \"Checkpoint\": \n",
    "    \"TextualInversion\": \"pt\",\n",
    "    \"\"\n",
    "}"
   ]
  }
 ],
 "metadata": {
  "kernelspec": {
   "display_name": "base",
   "language": "python",
   "name": "python3"
  },
  "language_info": {
   "codemirror_mode": {
    "name": "ipython",
    "version": 3
   },
   "file_extension": ".py",
   "mimetype": "text/x-python",
   "name": "python",
   "nbconvert_exporter": "python",
   "pygments_lexer": "ipython3",
   "version": "3.9.1"
  },
  "orig_nbformat": 4
 },
 "nbformat": 4,
 "nbformat_minor": 2
}

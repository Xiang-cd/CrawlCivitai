{
 "cells": [
  {
   "cell_type": "code",
   "execution_count": 1,
   "metadata": {},
   "outputs": [],
   "source": [
    "import os\n",
    "import json\n",
    "import numpy as np\n",
    "import matplotlib.pyplot as plt\n",
    "\n",
    "\n",
    "meta_dir = \"/DATA4T/civitai/meta\""
   ]
  },
  {
   "cell_type": "code",
   "execution_count": 2,
   "metadata": {},
   "outputs": [],
   "source": [
    "def get_all_items(path, num:int):\n",
    "    ls = list()\n",
    "    for i in range(1, num+1):\n",
    "        with open(os.path.join(path, f\"{i}.json\"), \"r\") as f:\n",
    "            dic = json.loads(f.read())\n",
    "            ls += dic[\"items\"]\n",
    "    return ls\n",
    "\n",
    "            \n",
    "def find_model_id(items, id_num:int):\n",
    "    for i in items:\n",
    "        if id_num == i[\"id\"]:\n",
    "            return i\n",
    "def find_model_name(items, name:str):\n",
    "    for i in items:\n",
    "        if name in i[\"name\"]:\n",
    "            return i\n",
    "\n",
    "def get_all_stats(items, name):\n",
    "    assert name in [\"downloadCount\", \"rating\", \"ratingCount\", \"commentCount\", \"favoriteCount\"]\n",
    "    rt = list()\n",
    "    for i in items:\n",
    "        rt.append(i[\"stats\"][name])\n",
    "    return rt\n"
   ]
  },
  {
   "cell_type": "code",
   "execution_count": 3,
   "metadata": {},
   "outputs": [],
   "source": [
    "all_item = get_all_items(meta_dir, 632)"
   ]
  },
  {
   "cell_type": "code",
   "execution_count": 4,
   "metadata": {},
   "outputs": [],
   "source": [
    "it = find_model_id(all_item, 6424)"
   ]
  },
  {
   "cell_type": "code",
   "execution_count": 7,
   "metadata": {},
   "outputs": [
    {
     "data": {
      "text/plain": [
       "'Checkpoint'"
      ]
     },
     "execution_count": 7,
     "metadata": {},
     "output_type": "execute_result"
    }
   ],
   "source": [
    "it[\"type\"]"
   ]
  },
  {
   "cell_type": "code",
   "execution_count": 5,
   "metadata": {},
   "outputs": [],
   "source": [
    "downloads = get_all_stats(all_item, \"downloadCount\")\n",
    "favs = get_all_stats(all_item, \"favoriteCount\")"
   ]
  },
  {
   "cell_type": "code",
   "execution_count": 45,
   "metadata": {},
   "outputs": [],
   "source": [
    "find_model_id(all_item, 11745)"
   ]
  },
  {
   "cell_type": "code",
   "execution_count": 6,
   "metadata": {},
   "outputs": [
    {
     "name": "stdout",
     "output_type": "stream",
     "text": [
      "median: 105.0\n",
      "mean: 254.4240506329114\n"
     ]
    },
    {
     "data": {
      "text/plain": [
       "3591"
      ]
     },
     "execution_count": 6,
     "metadata": {},
     "output_type": "execute_result"
    },
    {
     "data": {
      "image/png": "[encoded data removed]",
      "text/plain": [
       "<Figure size 640x480 with 1 Axes>"
      ]
     },
     "metadata": {},
     "output_type": "display_data"
    }
   ],
   "source": [
    "favs = np.array(favs)\n",
    "hist,bins = np.histogram(favs,bins=list(range(0, int(10* np.mean(favs)), 100)))\n",
    "plt.hist(favs, bins = bins)\n",
    "print(\"median:\", np.median(favs))\n",
    "print(\"mean:\", np.mean(favs))\n",
    "np.count_nonzero(favs > 200)"
   ]
  },
  {
   "cell_type": "code",
   "execution_count": 7,
   "metadata": {},
   "outputs": [
    {
     "name": "stdout",
     "output_type": "stream",
     "text": [
      "median: 498.0\n",
      "mean: 1426.3457278481012\n"
     ]
    },
    {
     "data": {
      "text/plain": [
       "3782"
      ]
     },
     "execution_count": 7,
     "metadata": {},
     "output_type": "execute_result"
    },
    {
     "data": {
      "image/png": "[encoded data removed]",
      "text/plain": [
       "<Figure size 640x480 with 1 Axes>"
      ]
     },
     "metadata": {},
     "output_type": "display_data"
    }
   ],
   "source": [
    "downloads = np.array(downloads)\n",
    "hist,bins = np.histogram(downloads,bins=list(range(0, int(2* np.mean(downloads)), 100)))  \n",
    "plt.hist(downloads, bins = bins)\n",
    "print(\"median:\", np.median(downloads))\n",
    "print(\"mean:\", np.mean(downloads))\n",
    "np.count_nonzero(downloads > 900)"
   ]
  },
  {
   "cell_type": "code",
   "execution_count": 8,
   "metadata": {},
   "outputs": [
    {
     "data": {
      "text/plain": [
       "dict_keys(['id', 'modelId', 'name', 'createdAt', 'updatedAt', 'trainedWords', 'baseModel', 'earlyAccessTimeFrame', 'description', 'files', 'images', 'downloadUrl'])"
      ]
     },
     "execution_count": 8,
     "metadata": {},
     "output_type": "execute_result"
    }
   ],
   "source": [
    "it = find_model_id(all_item, 6424)\n",
    "it[\"modelVersions\"][0].keys()"
   ]
  },
  {
   "cell_type": "code",
   "execution_count": 12,
   "metadata": {},
   "outputs": [
    {
     "data": {
      "text/plain": [
       "[{'url': 'https://imagecache.civitai.com/xG1nkqKTMzGDvpLrqFT7WA/20fcc1d7-29ce-42d8-1502-02c4e50e9100/width=450/174703',\n",
       "  'nsfw': True,\n",
       "  'width': 512,\n",
       "  'height': 784,\n",
       "  'hash': 'UHFsAA0000~W*0IARQRj%#IU$*oL?bNGM{Rj',\n",
       "  'meta': {'Size': '512x784',\n",
       "   'seed': 21364683354,\n",
       "   'Model': 'chilloutmix_NiPrunedFp32Fix',\n",
       "   'steps': 33,\n",
       "   'prompt': 'complex 3d render ultra detailed of a beautiful porcelain profile woman android face, cyborg, robotic parts, 150 mm, beautiful studio soft light, rim light, vibrant details, luxurious cyberpunk, lace, hyperrealistic, anatomical, facial muscles, cable electric wires, microchip, elegant, beautiful background, octane render, H. R. Giger style, 8k, best quality, masterpiece, illustration, an extremely delicate and beautiful, extremely detailed ,CG ,unity ,wallpaper, (realistic, photo-realistic:1.37),Amazing, finely detail, masterpiece,best quality,official art, extremely detailed CG unity 8k wallpaper, absurdres, incredibly absurdres,  <lora:japaneseDollLikeness_v10:0.1>, <lora:koreanDollLikeness_v10:0.5>, robot, silver halmet, full body, sitting',\n",
       "   'sampler': 'DPM++ SDE Karras',\n",
       "   'cfgScale': 7,\n",
       "   'resources': [{'name': 'japaneseDollLikeness_v10',\n",
       "     'type': 'lora',\n",
       "     'weight': 0.1},\n",
       "    {'name': 'koreanDollLikeness_v10', 'type': 'lora', 'weight': 0.5},\n",
       "    {'hash': 'fc2511737a',\n",
       "     'name': 'chilloutmix_NiPrunedFp32Fix',\n",
       "     'type': 'model'}],\n",
       "   'Model hash': 'fc2511737a',\n",
       "   'negativePrompt': 'illustration, 3d, sepia, painting, cartoons, sketch, (worst quality:2), (low quality:2), (normal quality:2), lowres, bad anatomy, bad hands, normal quality, ((monochrome)), ((grayscale:1.2)), futanari, full-package_futanari, penis_from_girl, newhalf, collapsed eyeshadow, multiple eyebrows, vaginas in breasts,holes on breasts, fleckles, stretched nipples, gigantic penis, nipples on buttocks, analog, analogphoto, signatre, logo,2 faces'},\n",
       "  'userId': 3,\n",
       "  'generationProcess': 'txt2img',\n",
       "  'needsReview': False,\n",
       "  'scannedAt': '2023-03-23T17:53:32.742Z',\n",
       "  'tags': [{'tag': {'id': 6924,\n",
       "     'name': 'revealing clothes',\n",
       "     'isCategory': False,\n",
       "     'type': 'Moderation'},\n",
       "    'automated': True,\n",
       "    'needsReview': False},\n",
       "   {'tag': {'id': 5193,\n",
       "     'name': 'clothing',\n",
       "     'isCategory': False,\n",
       "     'type': 'Label'},\n",
       "    'automated': True,\n",
       "    'needsReview': False},\n",
       "   {'tag': {'id': 2435,\n",
       "     'name': 'costume',\n",
       "     'isCategory': False,\n",
       "     'type': 'Label'},\n",
       "    'automated': True,\n",
       "    'needsReview': False},\n",
       "   {'tag': {'id': 66, 'name': 'person', 'isCategory': False, 'type': 'Label'},\n",
       "    'automated': True,\n",
       "    'needsReview': False},\n",
       "   {'tag': {'id': 5163, 'name': 'adult', 'isCategory': False, 'type': 'Label'},\n",
       "    'automated': True,\n",
       "    'needsReview': False},\n",
       "   {'tag': {'id': 192, 'name': 'female', 'isCategory': False, 'type': 'Label'},\n",
       "    'automated': True,\n",
       "    'needsReview': False},\n",
       "   {'tag': {'id': 5133, 'name': 'woman', 'isCategory': True, 'type': 'Label'},\n",
       "    'automated': True,\n",
       "    'needsReview': False},\n",
       "   {'tag': {'id': 111760, 'name': 'toy', 'isCategory': False, 'type': 'Label'},\n",
       "    'automated': True,\n",
       "    'needsReview': False},\n",
       "   {'tag': {'id': 112070,\n",
       "     'name': 'female swimwear or underwear',\n",
       "     'isCategory': False,\n",
       "     'type': 'Moderation'},\n",
       "    'automated': False,\n",
       "    'needsReview': False}]},\n",
       " {'url': 'https://imagecache.civitai.com/xG1nkqKTMzGDvpLrqFT7WA/dbf4b162-81e2-4967-0c81-ba9432a23000/width=450/112158',\n",
       "  'nsfw': False,\n",
       "  'width': 768,\n",
       "  'height': 512,\n",
       "  'hash': 'U5FrCU00pF01EJaMa0%f01^*Rp%1};4;0g-;',\n",
       "  'meta': None,\n",
       "  'userId': 76164,\n",
       "  'generationProcess': None,\n",
       "  'needsReview': False,\n",
       "  'scannedAt': '2023-03-23T17:41:25.373Z',\n",
       "  'tags': [{'tag': {'id': 111754,\n",
       "     'name': 'head',\n",
       "     'isCategory': False,\n",
       "     'type': 'Label'},\n",
       "    'automated': True,\n",
       "    'needsReview': False},\n",
       "   {'tag': {'id': 66, 'name': 'person', 'isCategory': False, 'type': 'Label'},\n",
       "    'automated': True,\n",
       "    'needsReview': False},\n",
       "   {'tag': {'id': 5484, 'name': 'face', 'isCategory': False, 'type': 'Label'},\n",
       "    'automated': True,\n",
       "    'needsReview': False},\n",
       "   {'tag': {'id': 5241,\n",
       "     'name': 'photography',\n",
       "     'isCategory': True,\n",
       "     'type': 'Label'},\n",
       "    'automated': True,\n",
       "    'needsReview': False},\n",
       "   {'tag': {'id': 1441,\n",
       "     'name': 'portrait',\n",
       "     'isCategory': False,\n",
       "     'type': 'Label'},\n",
       "    'automated': True,\n",
       "    'needsReview': False},\n",
       "   {'tag': {'id': 5787,\n",
       "     'name': 'jewelry',\n",
       "     'isCategory': False,\n",
       "     'type': 'Label'},\n",
       "    'automated': True,\n",
       "    'needsReview': False},\n",
       "   {'tag': {'id': 5942,\n",
       "     'name': 'necklace',\n",
       "     'isCategory': False,\n",
       "     'type': 'Label'},\n",
       "    'automated': True,\n",
       "    'needsReview': False},\n",
       "   {'tag': {'id': 4211, 'name': 'happy', 'isCategory': False, 'type': 'Label'},\n",
       "    'automated': True,\n",
       "    'needsReview': False},\n",
       "   {'tag': {'id': 5772, 'name': 'smile', 'isCategory': False, 'type': 'Label'},\n",
       "    'automated': True,\n",
       "    'needsReview': False},\n",
       "   {'tag': {'id': 1949,\n",
       "     'name': 'selfie',\n",
       "     'isCategory': False,\n",
       "     'type': 'Label'},\n",
       "    'automated': True,\n",
       "    'needsReview': False},\n",
       "   {'tag': {'id': 94, 'name': 'people', 'isCategory': False, 'type': 'Label'},\n",
       "    'automated': True,\n",
       "    'needsReview': False}]},\n",
       " {'url': 'https://imagecache.civitai.com/xG1nkqKTMzGDvpLrqFT7WA/2c0ede51-3213-4f2c-0c7b-c32bc59a6f00/width=450/112157',\n",
       "  'nsfw': False,\n",
       "  'width': 512,\n",
       "  'height': 512,\n",
       "  'hash': 'U9IE@E00*C,{PL#FS@9G0c00Hq_3_MxZMy-;',\n",
       "  'meta': None,\n",
       "  'userId': 76164,\n",
       "  'generationProcess': None,\n",
       "  'needsReview': False,\n",
       "  'scannedAt': '2023-03-23T17:41:25.452Z',\n",
       "  'tags': [{'tag': {'id': 111754,\n",
       "     'name': 'head',\n",
       "     'isCategory': False,\n",
       "     'type': 'Label'},\n",
       "    'automated': True,\n",
       "    'needsReview': False},\n",
       "   {'tag': {'id': 66, 'name': 'person', 'isCategory': False, 'type': 'Label'},\n",
       "    'automated': True,\n",
       "    'needsReview': False},\n",
       "   {'tag': {'id': 5484, 'name': 'face', 'isCategory': False, 'type': 'Label'},\n",
       "    'automated': True,\n",
       "    'needsReview': False},\n",
       "   {'tag': {'id': 192, 'name': 'female', 'isCategory': False, 'type': 'Label'},\n",
       "    'automated': True,\n",
       "    'needsReview': False}]}]"
      ]
     },
     "execution_count": 12,
     "metadata": {},
     "output_type": "execute_result"
    }
   ],
   "source": [
    "it[\"modelVersions\"][0][\"images\"]"
   ]
  },
  {
   "cell_type": "code",
   "execution_count": 82,
   "metadata": {},
   "outputs": [],
   "source": [
    "type_list = []\n",
    "for i in all_item:\n",
    "    if i[\"type\"] in type_list:\n",
    "        continue\n",
    "    else:\n",
    "        type_list.append(i['type'])"
   ]
  },
  {
   "cell_type": "code",
   "execution_count": 83,
   "metadata": {},
   "outputs": [
    {
     "data": {
      "text/plain": [
       "['Checkpoint',\n",
       " 'LORA',\n",
       " 'Other',\n",
       " 'TextualInversion',\n",
       " 'Hypernetwork',\n",
       " 'Poses',\n",
       " 'Controlnet',\n",
       " 'Wildcards',\n",
       " 'LoCon',\n",
       " 'AestheticGradient']"
      ]
     },
     "execution_count": 83,
     "metadata": {},
     "output_type": "execute_result"
    }
   ],
   "source": [
    "type_list"
   ]
  },
  {
   "cell_type": "code",
   "execution_count": null,
   "metadata": {},
   "outputs": [],
   "source": [
    "type_to_sufix = {\n",
    "    \"Checkpoint\": \n",
    "    \"TextualInversion\": \"pt\",\n",
    "    \"\"\n",
    "}"
   ]
  }
 ],
 "metadata": {
  "kernelspec": {
   "display_name": "base",
   "language": "python",
   "name": "python3"
  },
  "language_info": {
   "codemirror_mode": {
    "name": "ipython",
    "version": 3
   },
   "file_extension": ".py",
   "mimetype": "text/x-python",
   "name": "python",
   "nbconvert_exporter": "python",
   "pygments_lexer": "ipython3",
   "version": "3.9.1"
  },
  "orig_nbformat": 4
 },
 "nbformat": 4,
 "nbformat_minor": 2
}
